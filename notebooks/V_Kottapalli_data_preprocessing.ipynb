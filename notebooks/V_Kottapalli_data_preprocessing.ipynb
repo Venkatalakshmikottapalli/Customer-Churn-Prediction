{
 "cells": [
  {
   "cell_type": "markdown",
   "metadata": {},
   "source": [
    "## Project - Customer Churn Prediction"
   ]
  },
  {
   "cell_type": "markdown",
   "metadata": {},
   "source": [
    "### Import the libraries"
   ]
  },
  {
   "cell_type": "code",
   "execution_count": 53,
   "metadata": {},
   "outputs": [],
   "source": [
    "# Import libraries\n",
    "import pandas as pd\n",
    "import numpy as np\n",
    "import matplotlib.pyplot as plt\n",
    "import seaborn as sns\n",
    "from sklearn.impute import KNNImputer\n",
    "from sklearn.preprocessing import StandardScaler, LabelEncoder\n",
    "from sklearn.ensemble import RandomForestClassifier\n",
    "from sklearn.decomposition import PCA\n",
    "from imblearn.over_sampling import SMOTE\n",
    "from sklearn.model_selection import train_test_split\n",
    "from sklearn.naive_bayes import GaussianNB\n",
    "from sklearn.linear_model import LogisticRegression  \n",
    "from sklearn.svm import SVC  \n",
    "from sklearn.metrics import accuracy_score, roc_auc_score, confusion_matrix, classification_report\n",
    "from sklearn.preprocessing import LabelEncoder\n",
    "from sklearn.tree import DecisionTreeClassifier  \n",
    "from sklearn.ensemble import RandomForestClassifier  \n",
    "from sklearn.ensemble import AdaBoostClassifier\n",
    "from sklearn.ensemble import GradientBoostingClassifier\n",
    "import xgboost as xgb\n",
    "from sklearn.metrics import classification_report\n",
    "from sklearn.ensemble import StackingClassifier\n",
    "from sklearn.model_selection import GridSearchCV\n",
    "from sklearn.metrics import accuracy_score, roc_auc_score, precision_score, recall_score, f1_score, confusion_matrix"
   ]
  },
  {
   "cell_type": "markdown",
   "metadata": {},
   "source": [
    "### Load the dataset"
   ]
  },
  {
   "cell_type": "code",
   "execution_count": 54,
   "metadata": {},
   "outputs": [
    {
     "data": {
      "text/html": [
       "<div>\n",
       "<style scoped>\n",
       "    .dataframe tbody tr th:only-of-type {\n",
       "        vertical-align: middle;\n",
       "    }\n",
       "\n",
       "    .dataframe tbody tr th {\n",
       "        vertical-align: top;\n",
       "    }\n",
       "\n",
       "    .dataframe thead th {\n",
       "        text-align: right;\n",
       "    }\n",
       "</style>\n",
       "<table border=\"1\" class=\"dataframe\">\n",
       "  <thead>\n",
       "    <tr style=\"text-align: right;\">\n",
       "      <th></th>\n",
       "      <th>customerID</th>\n",
       "      <th>gender</th>\n",
       "      <th>SeniorCitizen</th>\n",
       "      <th>Partner</th>\n",
       "      <th>Dependents</th>\n",
       "      <th>tenure</th>\n",
       "      <th>PhoneService</th>\n",
       "      <th>MultipleLines</th>\n",
       "      <th>InternetService</th>\n",
       "      <th>OnlineSecurity</th>\n",
       "      <th>...</th>\n",
       "      <th>DeviceProtection</th>\n",
       "      <th>TechSupport</th>\n",
       "      <th>StreamingTV</th>\n",
       "      <th>StreamingMovies</th>\n",
       "      <th>Contract</th>\n",
       "      <th>PaperlessBilling</th>\n",
       "      <th>PaymentMethod</th>\n",
       "      <th>MonthlyCharges</th>\n",
       "      <th>TotalCharges</th>\n",
       "      <th>Churn</th>\n",
       "    </tr>\n",
       "  </thead>\n",
       "  <tbody>\n",
       "    <tr>\n",
       "      <th>0</th>\n",
       "      <td>7590-VHVEG</td>\n",
       "      <td>Female</td>\n",
       "      <td>0</td>\n",
       "      <td>Yes</td>\n",
       "      <td>No</td>\n",
       "      <td>1</td>\n",
       "      <td>No</td>\n",
       "      <td>No phone service</td>\n",
       "      <td>DSL</td>\n",
       "      <td>No</td>\n",
       "      <td>...</td>\n",
       "      <td>No</td>\n",
       "      <td>No</td>\n",
       "      <td>No</td>\n",
       "      <td>No</td>\n",
       "      <td>Month-to-month</td>\n",
       "      <td>Yes</td>\n",
       "      <td>Electronic check</td>\n",
       "      <td>29.85</td>\n",
       "      <td>29.85</td>\n",
       "      <td>No</td>\n",
       "    </tr>\n",
       "    <tr>\n",
       "      <th>1</th>\n",
       "      <td>5575-GNVDE</td>\n",
       "      <td>Male</td>\n",
       "      <td>0</td>\n",
       "      <td>No</td>\n",
       "      <td>No</td>\n",
       "      <td>34</td>\n",
       "      <td>Yes</td>\n",
       "      <td>No</td>\n",
       "      <td>DSL</td>\n",
       "      <td>Yes</td>\n",
       "      <td>...</td>\n",
       "      <td>Yes</td>\n",
       "      <td>No</td>\n",
       "      <td>No</td>\n",
       "      <td>No</td>\n",
       "      <td>One year</td>\n",
       "      <td>No</td>\n",
       "      <td>Mailed check</td>\n",
       "      <td>56.95</td>\n",
       "      <td>1889.5</td>\n",
       "      <td>No</td>\n",
       "    </tr>\n",
       "    <tr>\n",
       "      <th>2</th>\n",
       "      <td>3668-QPYBK</td>\n",
       "      <td>Male</td>\n",
       "      <td>0</td>\n",
       "      <td>No</td>\n",
       "      <td>No</td>\n",
       "      <td>2</td>\n",
       "      <td>Yes</td>\n",
       "      <td>No</td>\n",
       "      <td>DSL</td>\n",
       "      <td>Yes</td>\n",
       "      <td>...</td>\n",
       "      <td>No</td>\n",
       "      <td>No</td>\n",
       "      <td>No</td>\n",
       "      <td>No</td>\n",
       "      <td>Month-to-month</td>\n",
       "      <td>Yes</td>\n",
       "      <td>Mailed check</td>\n",
       "      <td>53.85</td>\n",
       "      <td>108.15</td>\n",
       "      <td>Yes</td>\n",
       "    </tr>\n",
       "    <tr>\n",
       "      <th>3</th>\n",
       "      <td>7795-CFOCW</td>\n",
       "      <td>Male</td>\n",
       "      <td>0</td>\n",
       "      <td>No</td>\n",
       "      <td>No</td>\n",
       "      <td>45</td>\n",
       "      <td>No</td>\n",
       "      <td>No phone service</td>\n",
       "      <td>DSL</td>\n",
       "      <td>Yes</td>\n",
       "      <td>...</td>\n",
       "      <td>Yes</td>\n",
       "      <td>Yes</td>\n",
       "      <td>No</td>\n",
       "      <td>No</td>\n",
       "      <td>One year</td>\n",
       "      <td>No</td>\n",
       "      <td>Bank transfer (automatic)</td>\n",
       "      <td>42.30</td>\n",
       "      <td>1840.75</td>\n",
       "      <td>No</td>\n",
       "    </tr>\n",
       "    <tr>\n",
       "      <th>4</th>\n",
       "      <td>9237-HQITU</td>\n",
       "      <td>Female</td>\n",
       "      <td>0</td>\n",
       "      <td>No</td>\n",
       "      <td>No</td>\n",
       "      <td>2</td>\n",
       "      <td>Yes</td>\n",
       "      <td>No</td>\n",
       "      <td>Fiber optic</td>\n",
       "      <td>No</td>\n",
       "      <td>...</td>\n",
       "      <td>No</td>\n",
       "      <td>No</td>\n",
       "      <td>No</td>\n",
       "      <td>No</td>\n",
       "      <td>Month-to-month</td>\n",
       "      <td>Yes</td>\n",
       "      <td>Electronic check</td>\n",
       "      <td>70.70</td>\n",
       "      <td>151.65</td>\n",
       "      <td>Yes</td>\n",
       "    </tr>\n",
       "  </tbody>\n",
       "</table>\n",
       "<p>5 rows × 21 columns</p>\n",
       "</div>"
      ],
      "text/plain": [
       "   customerID  gender  SeniorCitizen Partner Dependents  tenure PhoneService  \\\n",
       "0  7590-VHVEG  Female              0     Yes         No       1           No   \n",
       "1  5575-GNVDE    Male              0      No         No      34          Yes   \n",
       "2  3668-QPYBK    Male              0      No         No       2          Yes   \n",
       "3  7795-CFOCW    Male              0      No         No      45           No   \n",
       "4  9237-HQITU  Female              0      No         No       2          Yes   \n",
       "\n",
       "      MultipleLines InternetService OnlineSecurity  ... DeviceProtection  \\\n",
       "0  No phone service             DSL             No  ...               No   \n",
       "1                No             DSL            Yes  ...              Yes   \n",
       "2                No             DSL            Yes  ...               No   \n",
       "3  No phone service             DSL            Yes  ...              Yes   \n",
       "4                No     Fiber optic             No  ...               No   \n",
       "\n",
       "  TechSupport StreamingTV StreamingMovies        Contract PaperlessBilling  \\\n",
       "0          No          No              No  Month-to-month              Yes   \n",
       "1          No          No              No        One year               No   \n",
       "2          No          No              No  Month-to-month              Yes   \n",
       "3         Yes          No              No        One year               No   \n",
       "4          No          No              No  Month-to-month              Yes   \n",
       "\n",
       "               PaymentMethod MonthlyCharges  TotalCharges Churn  \n",
       "0           Electronic check          29.85         29.85    No  \n",
       "1               Mailed check          56.95        1889.5    No  \n",
       "2               Mailed check          53.85        108.15   Yes  \n",
       "3  Bank transfer (automatic)          42.30       1840.75    No  \n",
       "4           Electronic check          70.70        151.65   Yes  \n",
       "\n",
       "[5 rows x 21 columns]"
      ]
     },
     "execution_count": 54,
     "metadata": {},
     "output_type": "execute_result"
    }
   ],
   "source": [
    "# load the dataset\n",
    "df = pd.read_csv(r'https://raw.githubusercontent.com/Venkatalakshmikottapalli/Customer-Churn-Prediction/refs/heads/main/data/WA_Fn-UseC_-Telco-Customer-Churn.csv')\n",
    "\n",
    "# print the head of the data\n",
    "df.head()"
   ]
  },
  {
   "cell_type": "markdown",
   "metadata": {},
   "source": [
    "#### Comment:\n",
    "- Data loaded successfully"
   ]
  },
  {
   "cell_type": "markdown",
   "metadata": {},
   "source": [
    "### Data Summary\n",
    "\n",
    "This dataset contains the following variables:\n",
    "\n",
    "- customerID: Unique identifier for each customer.\n",
    "  Data type: String (Categorical).\n",
    "\n",
    "- gender: Gender of the customer, typically Male or Female.\n",
    "Data type: String (Categorical).\n",
    "\n",
    "- SeniorCitizen: Indicates whether the customer is a senior citizen (0 = No, 1 = Yes).\n",
    "Data type: Integer (Binary).\n",
    "\n",
    "- Partner: Indicates if the customer has a partner (Yes/No).\n",
    "Data type: String (Categorical).\n",
    "\n",
    "- Dependents: Indicates whether the customer has dependents (Yes/No).\n",
    "Data type: String (Categorical).\n",
    "\n",
    "- tenure: Number of months the customer has been with the company.\n",
    "Data type: Integer (Numerical).\n",
    "\n",
    "- PhoneService: Indicates if the customer has a phone service (Yes/No).\n",
    "Data type: String (Categorical).\n",
    "\n",
    "- MultipleLines: Indicates whether the customer has multiple phone lines (No, Yes, or No phone service).\n",
    "Data type: String (Categorical).\n",
    "\n",
    "- InternetService: Type of internet service the customer uses (DSL, Fiber optic, or No internet service).\n",
    "Data type: String (Categorical).\n",
    "\n",
    "- OnlineSecurity: Indicates whether the customer has online security add-ons (Yes, No, or No internet service).\n",
    "Data type: String (Categorical).\n",
    "\n",
    "- OnlineBackup: Indicates if the customer has opted for online backup services (Yes, No, or No internet service).\n",
    "Data type: String (Categorical).\n",
    "\n",
    "- DeviceProtection: Indicates whether the customer has device protection services (Yes, No, or No internet service).\n",
    "Data type: String (Categorical).\n",
    "\n",
    "- TechSupport: Indicates whether the customer has technical support services (Yes, No, or No internet service).\n",
    "Data type: String (Categorical).\n",
    "\n",
    "- StreamingTV: Indicates whether the customer streams TV services (Yes, No, or No internet service).\n",
    "Data type: String (Categorical).\n",
    "\n",
    "- StreamingMovies: Indicates whether the customer streams movies (Yes, No, or No internet service).\n",
    "Data type: String (Categorical).\n",
    "\n",
    "- Contract: Type of contract the customer has with the company (Month-to-month, One year, or Two years).\n",
    "Data type: String (Categorical).\n",
    "\n",
    "- PaperlessBilling: Indicates if the customer uses paperless billing (Yes/No).\n",
    "Data type: String (Categorical).\n",
    "\n",
    "- PaymentMethod: Customer's payment method (Electronic check, Mailed check, Bank transfer (automatic), or Credit card (automatic)).\n",
    "Data type: String (Categorical).\n",
    "\n",
    "- MonthlyCharges: Monthly charges incurred by the customer.\n",
    "Data type: Float (Numerical).\n",
    "\n",
    "- TotalCharges: Total amount charged to the customer to date.\n",
    "Data type: Float (Numerical).\n",
    "\n",
    "- Churn: Target variable indicating whether the customer has left the service (Yes/No).\n",
    "Data type: String (Categorical).\n"
   ]
  },
  {
   "cell_type": "markdown",
   "metadata": {},
   "source": [
    "### Dataset Inspection"
   ]
  },
  {
   "cell_type": "code",
   "execution_count": 55,
   "metadata": {},
   "outputs": [
    {
     "data": {
      "text/plain": [
       "(7043, 21)"
      ]
     },
     "execution_count": 55,
     "metadata": {},
     "output_type": "execute_result"
    }
   ],
   "source": [
    "# shape of dataset\n",
    "df.shape"
   ]
  },
  {
   "cell_type": "code",
   "execution_count": 56,
   "metadata": {},
   "outputs": [
    {
     "data": {
      "text/plain": [
       "Index(['customerID', 'gender', 'SeniorCitizen', 'Partner', 'Dependents',\n",
       "       'tenure', 'PhoneService', 'MultipleLines', 'InternetService',\n",
       "       'OnlineSecurity', 'OnlineBackup', 'DeviceProtection', 'TechSupport',\n",
       "       'StreamingTV', 'StreamingMovies', 'Contract', 'PaperlessBilling',\n",
       "       'PaymentMethod', 'MonthlyCharges', 'TotalCharges', 'Churn'],\n",
       "      dtype='object')"
      ]
     },
     "execution_count": 56,
     "metadata": {},
     "output_type": "execute_result"
    }
   ],
   "source": [
    "# Columns of dataset\n",
    "df.columns"
   ]
  },
  {
   "cell_type": "code",
   "execution_count": 57,
   "metadata": {},
   "outputs": [
    {
     "data": {
      "text/plain": [
       "RangeIndex(start=0, stop=7043, step=1)"
      ]
     },
     "execution_count": 57,
     "metadata": {},
     "output_type": "execute_result"
    }
   ],
   "source": [
    "# Index\n",
    "df.index"
   ]
  },
  {
   "cell_type": "code",
   "execution_count": 58,
   "metadata": {},
   "outputs": [
    {
     "data": {
      "text/plain": [
       "0"
      ]
     },
     "execution_count": 58,
     "metadata": {},
     "output_type": "execute_result"
    }
   ],
   "source": [
    "#sum of duplicates\n",
    "df.duplicated().sum()"
   ]
  },
  {
   "cell_type": "code",
   "execution_count": 59,
   "metadata": {},
   "outputs": [
    {
     "name": "stdout",
     "output_type": "stream",
     "text": [
      "<class 'pandas.core.frame.DataFrame'>\n",
      "RangeIndex: 7043 entries, 0 to 7042\n",
      "Data columns (total 21 columns):\n",
      " #   Column            Non-Null Count  Dtype  \n",
      "---  ------            --------------  -----  \n",
      " 0   customerID        7043 non-null   object \n",
      " 1   gender            7043 non-null   object \n",
      " 2   SeniorCitizen     7043 non-null   int64  \n",
      " 3   Partner           7043 non-null   object \n",
      " 4   Dependents        7043 non-null   object \n",
      " 5   tenure            7043 non-null   int64  \n",
      " 6   PhoneService      7043 non-null   object \n",
      " 7   MultipleLines     7043 non-null   object \n",
      " 8   InternetService   7043 non-null   object \n",
      " 9   OnlineSecurity    7043 non-null   object \n",
      " 10  OnlineBackup      7043 non-null   object \n",
      " 11  DeviceProtection  7043 non-null   object \n",
      " 12  TechSupport       7043 non-null   object \n",
      " 13  StreamingTV       7043 non-null   object \n",
      " 14  StreamingMovies   7043 non-null   object \n",
      " 15  Contract          7043 non-null   object \n",
      " 16  PaperlessBilling  7043 non-null   object \n",
      " 17  PaymentMethod     7043 non-null   object \n",
      " 18  MonthlyCharges    7043 non-null   float64\n",
      " 19  TotalCharges      7043 non-null   object \n",
      " 20  Churn             7043 non-null   object \n",
      "dtypes: float64(1), int64(2), object(18)\n",
      "memory usage: 1.1+ MB\n"
     ]
    }
   ],
   "source": [
    "# information of data\n",
    "df.info()"
   ]
  },
  {
   "cell_type": "markdown",
   "metadata": {},
   "source": [
    "#### Comment:\n",
    "There are no nulls in the dataset"
   ]
  },
  {
   "cell_type": "markdown",
   "metadata": {},
   "source": [
    "### Exploratory Data Analysis"
   ]
  },
  {
   "cell_type": "code",
   "execution_count": 60,
   "metadata": {},
   "outputs": [
    {
     "data": {
      "text/plain": [
       "count     7043\n",
       "unique       2\n",
       "top         No\n",
       "freq      5174\n",
       "Name: Churn, dtype: object"
      ]
     },
     "execution_count": 60,
     "metadata": {},
     "output_type": "execute_result"
    }
   ],
   "source": [
    "# Get churn statistics\n",
    "df['Churn'].describe()"
   ]
  },
  {
   "cell_type": "code",
   "execution_count": 61,
   "metadata": {},
   "outputs": [
    {
     "data": {
      "image/png": "[encoded data removed]",
      "text/plain": [
       "<Figure size 500x400 with 1 Axes>"
      ]
     },
     "metadata": {},
     "output_type": "display_data"
    }
   ],
   "source": [
    "# Create the count plot \n",
    "plt.figure(figsize=(5, 4))\n",
    "sns.countplot(x='Churn', data=df, hue='Churn', palette='Set2', legend=False)\n",
    "plt.title('Count of Churn', fontsize=16)\n",
    "plt.show()"
   ]
  },
  {
   "cell_type": "markdown",
   "metadata": {},
   "source": [
    "#### Comment:\n",
    "- There are more entries for No Churn and less for Churn. A significant class imbalance has been identified."
   ]
  },
  {
   "cell_type": "code",
   "execution_count": 62,
   "metadata": {},
   "outputs": [
    {
     "data": {
      "image/png": "[encoded data removed]",
      "text/plain": [
       "<Figure size 640x480 with 1 Axes>"
      ]
     },
     "metadata": {},
     "output_type": "display_data"
    }
   ],
   "source": [
    "# Plot for churn vs gender\n",
    "sns.countplot(x='Churn', hue='gender', data=df)\n",
    "plt.title(\"Count Plot of churn vs gender\")\n",
    "plt.show()"
   ]
  },
  {
   "cell_type": "markdown",
   "metadata": {},
   "source": [
    "#### Comment:\n",
    "- Both men and women have same frequency in Churn and No Churn"
   ]
  },
  {
   "cell_type": "code",
   "execution_count": 63,
   "metadata": {},
   "outputs": [
    {
     "data": {
      "image/png": "[encoded data removed]",
      "text/plain": [
       "<Figure size 640x480 with 1 Axes>"
      ]
     },
     "metadata": {},
     "output_type": "display_data"
    }
   ],
   "source": [
    "# Plot for churn vs senior citizen\n",
    "sns.countplot(x='Churn', hue='SeniorCitizen', data=df)\n",
    "plt.title(\"Count Plot of churn vs senior citizen\")\n",
    "plt.show()"
   ]
  },
  {
   "cell_type": "markdown",
   "metadata": {},
   "source": [
    "#### Comment:\n",
    "- There is no impact of senior citizen for Churn"
   ]
  },
  {
   "cell_type": "code",
   "execution_count": 64,
   "metadata": {},
   "outputs": [
    {
     "data": {
      "image/png": "[encoded data removed]",
      "text/plain": [
       "<Figure size 640x480 with 1 Axes>"
      ]
     },
     "metadata": {},
     "output_type": "display_data"
    }
   ],
   "source": [
    "# Plot for churn vs Payment method\n",
    "sns.countplot(x='Churn', hue='PaymentMethod', data=df)\n",
    "plt.title(\"Count Plot of Two Categorical Columns\")\n",
    "plt.show()"
   ]
  },
  {
   "cell_type": "markdown",
   "metadata": {},
   "source": [
    "#### Comment:\n",
    "- From above graph, the churn customers are using Electronic check than other payment methods"
   ]
  },
  {
   "cell_type": "markdown",
   "metadata": {},
   "source": [
    "## Data preprocessing "
   ]
  },
  {
   "cell_type": "code",
   "execution_count": 65,
   "metadata": {},
   "outputs": [
    {
     "name": "stdout",
     "output_type": "stream",
     "text": [
      "Number of blank spaces after stripping: 11\n"
     ]
    }
   ],
   "source": [
    "# Strip whitespace and check if any value is an empty string\n",
    "df['TotalCharges'] = df['TotalCharges'].str.strip()\n",
    "blank_spaces = (df['TotalCharges'] == '').sum()\n",
    "print(f\"Number of blank spaces after stripping: {blank_spaces}\")\n"
   ]
  },
  {
   "cell_type": "code",
   "execution_count": 66,
   "metadata": {},
   "outputs": [
    {
     "name": "stdout",
     "output_type": "stream",
     "text": [
      "Number of NaN values: 11\n"
     ]
    }
   ],
   "source": [
    "# Replace blank spaces with NaN\n",
    "df['TotalCharges'] = df['TotalCharges'].replace('', np.nan)\n",
    "\n",
    "# Verify the replacement\n",
    "print(f\"Number of NaN values: {df['TotalCharges'].isna().sum()}\")\n"
   ]
  },
  {
   "cell_type": "code",
   "execution_count": 67,
   "metadata": {},
   "outputs": [
    {
     "name": "stdout",
     "output_type": "stream",
     "text": [
      "0\n"
     ]
    }
   ],
   "source": [
    "# Initialize the KNNImputer\n",
    "knn_imputer = KNNImputer(n_neighbors=5, weights='uniform')\n",
    "\n",
    "# Use correlated numerical features for imputation\n",
    "feature_for_imputation = ['TotalCharges']\n",
    "\n",
    "# Apply KNN Imputation\n",
    "df[feature_for_imputation] = knn_imputer.fit_transform(df[feature_for_imputation])\n",
    "\n",
    "# Verify \n",
    "print(df['TotalCharges'].isnull().sum())  "
   ]
  },
  {
   "cell_type": "code",
   "execution_count": 68,
   "metadata": {},
   "outputs": [
    {
     "name": "stdout",
     "output_type": "stream",
     "text": [
      "customerID            object\n",
      "gender              category\n",
      "SeniorCitizen       category\n",
      "Partner             category\n",
      "Dependents          category\n",
      "tenure               float64\n",
      "PhoneService        category\n",
      "MultipleLines       category\n",
      "InternetService     category\n",
      "OnlineSecurity      category\n",
      "OnlineBackup        category\n",
      "DeviceProtection    category\n",
      "TechSupport         category\n",
      "StreamingTV         category\n",
      "StreamingMovies     category\n",
      "Contract            category\n",
      "PaperlessBilling    category\n",
      "PaymentMethod       category\n",
      "MonthlyCharges       float64\n",
      "TotalCharges         float64\n",
      "Churn               category\n",
      "dtype: object\n"
     ]
    }
   ],
   "source": [
    "# Convert 'TotalCharges' to a numeric type\n",
    "df['TotalCharges'] = pd.to_numeric(df['TotalCharges'], errors='coerce')\n",
    "\n",
    "# Convert numerical features\n",
    "numerical_features = ['MonthlyCharges', 'TotalCharges', 'tenure']\n",
    "df[numerical_features] = df[numerical_features].astype(float)\n",
    "\n",
    "# Convert ordinal features to category type\n",
    "ordinal_features = ['Contract', 'PaymentMethod', 'InternetService']\n",
    "df[ordinal_features] = df[ordinal_features].astype('category')\n",
    "\n",
    "# Convert binary categorical features to category type\n",
    "binary_categorical_features = ['gender', 'SeniorCitizen', 'Partner', 'Dependents', 'PhoneService', 'PaperlessBilling', 'Churn']\n",
    "df[binary_categorical_features] = df[binary_categorical_features].astype('category')\n",
    "\n",
    "# Convert multi-category features to category type\n",
    "multi_category_features = ['OnlineSecurity', 'OnlineBackup', 'DeviceProtection', 'TechSupport', \n",
    "                           'StreamingTV', 'StreamingMovies', 'MultipleLines']\n",
    "df[multi_category_features] = df[multi_category_features].astype('category')\n",
    "\n",
    "# Verify the data types\n",
    "print(df.dtypes)"
   ]
  },
  {
   "cell_type": "markdown",
   "metadata": {},
   "source": [
    "## Feature Engineering"
   ]
  },
  {
   "cell_type": "code",
   "execution_count": 69,
   "metadata": {},
   "outputs": [],
   "source": [
    "# Create a new feature 'HasStreamingService'\n",
    "df['HasStreamingService'] = ((df['StreamingTV'] == 'Yes') | (df['StreamingMovies'] == 'Yes')).astype(int)"
   ]
  },
  {
   "cell_type": "code",
   "execution_count": 70,
   "metadata": {},
   "outputs": [],
   "source": [
    "# Drop customerID \n",
    "df = df.drop(columns = ['customerID'])"
   ]
  },
  {
   "cell_type": "code",
   "execution_count": 71,
   "metadata": {},
   "outputs": [
    {
     "data": {
      "text/html": [
       "<div>\n",
       "<style scoped>\n",
       "    .dataframe tbody tr th:only-of-type {\n",
       "        vertical-align: middle;\n",
       "    }\n",
       "\n",
       "    .dataframe tbody tr th {\n",
       "        vertical-align: top;\n",
       "    }\n",
       "\n",
       "    .dataframe thead th {\n",
       "        text-align: right;\n",
       "    }\n",
       "</style>\n",
       "<table border=\"1\" class=\"dataframe\">\n",
       "  <thead>\n",
       "    <tr style=\"text-align: right;\">\n",
       "      <th></th>\n",
       "      <th>gender</th>\n",
       "      <th>SeniorCitizen</th>\n",
       "      <th>Partner</th>\n",
       "      <th>Dependents</th>\n",
       "      <th>tenure</th>\n",
       "      <th>PhoneService</th>\n",
       "      <th>MultipleLines</th>\n",
       "      <th>InternetService</th>\n",
       "      <th>OnlineSecurity</th>\n",
       "      <th>OnlineBackup</th>\n",
       "      <th>...</th>\n",
       "      <th>TechSupport</th>\n",
       "      <th>StreamingTV</th>\n",
       "      <th>StreamingMovies</th>\n",
       "      <th>Contract</th>\n",
       "      <th>PaperlessBilling</th>\n",
       "      <th>PaymentMethod</th>\n",
       "      <th>MonthlyCharges</th>\n",
       "      <th>TotalCharges</th>\n",
       "      <th>Churn</th>\n",
       "      <th>HasStreamingService</th>\n",
       "    </tr>\n",
       "  </thead>\n",
       "  <tbody>\n",
       "    <tr>\n",
       "      <th>0</th>\n",
       "      <td>0</td>\n",
       "      <td>0</td>\n",
       "      <td>1</td>\n",
       "      <td>0</td>\n",
       "      <td>-1.277445</td>\n",
       "      <td>0</td>\n",
       "      <td>1</td>\n",
       "      <td>0</td>\n",
       "      <td>0</td>\n",
       "      <td>2</td>\n",
       "      <td>...</td>\n",
       "      <td>0</td>\n",
       "      <td>0</td>\n",
       "      <td>0</td>\n",
       "      <td>0</td>\n",
       "      <td>1</td>\n",
       "      <td>2</td>\n",
       "      <td>-1.160323</td>\n",
       "      <td>-0.994971</td>\n",
       "      <td>0</td>\n",
       "      <td>0</td>\n",
       "    </tr>\n",
       "    <tr>\n",
       "      <th>1</th>\n",
       "      <td>1</td>\n",
       "      <td>0</td>\n",
       "      <td>0</td>\n",
       "      <td>0</td>\n",
       "      <td>0.066327</td>\n",
       "      <td>1</td>\n",
       "      <td>0</td>\n",
       "      <td>0</td>\n",
       "      <td>2</td>\n",
       "      <td>0</td>\n",
       "      <td>...</td>\n",
       "      <td>0</td>\n",
       "      <td>0</td>\n",
       "      <td>0</td>\n",
       "      <td>1</td>\n",
       "      <td>0</td>\n",
       "      <td>3</td>\n",
       "      <td>-0.259629</td>\n",
       "      <td>-0.173876</td>\n",
       "      <td>0</td>\n",
       "      <td>0</td>\n",
       "    </tr>\n",
       "    <tr>\n",
       "      <th>2</th>\n",
       "      <td>1</td>\n",
       "      <td>0</td>\n",
       "      <td>0</td>\n",
       "      <td>0</td>\n",
       "      <td>-1.236724</td>\n",
       "      <td>1</td>\n",
       "      <td>0</td>\n",
       "      <td>0</td>\n",
       "      <td>2</td>\n",
       "      <td>2</td>\n",
       "      <td>...</td>\n",
       "      <td>0</td>\n",
       "      <td>0</td>\n",
       "      <td>0</td>\n",
       "      <td>0</td>\n",
       "      <td>1</td>\n",
       "      <td>3</td>\n",
       "      <td>-0.362660</td>\n",
       "      <td>-0.960399</td>\n",
       "      <td>1</td>\n",
       "      <td>0</td>\n",
       "    </tr>\n",
       "    <tr>\n",
       "      <th>3</th>\n",
       "      <td>1</td>\n",
       "      <td>0</td>\n",
       "      <td>0</td>\n",
       "      <td>0</td>\n",
       "      <td>0.514251</td>\n",
       "      <td>0</td>\n",
       "      <td>1</td>\n",
       "      <td>0</td>\n",
       "      <td>2</td>\n",
       "      <td>0</td>\n",
       "      <td>...</td>\n",
       "      <td>2</td>\n",
       "      <td>0</td>\n",
       "      <td>0</td>\n",
       "      <td>1</td>\n",
       "      <td>0</td>\n",
       "      <td>0</td>\n",
       "      <td>-0.746535</td>\n",
       "      <td>-0.195400</td>\n",
       "      <td>0</td>\n",
       "      <td>0</td>\n",
       "    </tr>\n",
       "    <tr>\n",
       "      <th>4</th>\n",
       "      <td>0</td>\n",
       "      <td>0</td>\n",
       "      <td>0</td>\n",
       "      <td>0</td>\n",
       "      <td>-1.236724</td>\n",
       "      <td>1</td>\n",
       "      <td>0</td>\n",
       "      <td>1</td>\n",
       "      <td>0</td>\n",
       "      <td>0</td>\n",
       "      <td>...</td>\n",
       "      <td>0</td>\n",
       "      <td>0</td>\n",
       "      <td>0</td>\n",
       "      <td>0</td>\n",
       "      <td>1</td>\n",
       "      <td>2</td>\n",
       "      <td>0.197365</td>\n",
       "      <td>-0.941193</td>\n",
       "      <td>1</td>\n",
       "      <td>0</td>\n",
       "    </tr>\n",
       "  </tbody>\n",
       "</table>\n",
       "<p>5 rows × 21 columns</p>\n",
       "</div>"
      ],
      "text/plain": [
       "   gender SeniorCitizen  Partner  Dependents    tenure  PhoneService  \\\n",
       "0       0             0        1           0 -1.277445             0   \n",
       "1       1             0        0           0  0.066327             1   \n",
       "2       1             0        0           0 -1.236724             1   \n",
       "3       1             0        0           0  0.514251             0   \n",
       "4       0             0        0           0 -1.236724             1   \n",
       "\n",
       "   MultipleLines  InternetService  OnlineSecurity  OnlineBackup  ...  \\\n",
       "0              1                0               0             2  ...   \n",
       "1              0                0               2             0  ...   \n",
       "2              0                0               2             2  ...   \n",
       "3              1                0               2             0  ...   \n",
       "4              0                1               0             0  ...   \n",
       "\n",
       "   TechSupport  StreamingTV  StreamingMovies  Contract  PaperlessBilling  \\\n",
       "0            0            0                0         0                 1   \n",
       "1            0            0                0         1                 0   \n",
       "2            0            0                0         0                 1   \n",
       "3            2            0                0         1                 0   \n",
       "4            0            0                0         0                 1   \n",
       "\n",
       "   PaymentMethod  MonthlyCharges  TotalCharges  Churn  HasStreamingService  \n",
       "0              2       -1.160323     -0.994971      0                    0  \n",
       "1              3       -0.259629     -0.173876      0                    0  \n",
       "2              3       -0.362660     -0.960399      1                    0  \n",
       "3              0       -0.746535     -0.195400      0                    0  \n",
       "4              2        0.197365     -0.941193      1                    0  \n",
       "\n",
       "[5 rows x 21 columns]"
      ]
     },
     "execution_count": 71,
     "metadata": {},
     "output_type": "execute_result"
    }
   ],
   "source": [
    "# Numerical features to be scaled\n",
    "numerical_features = ['tenure', 'MonthlyCharges', 'TotalCharges']\n",
    "\n",
    "# Apply Standard Scaling to numerical features\n",
    "scaler = StandardScaler()\n",
    "df[numerical_features] = scaler.fit_transform(df[numerical_features])\n",
    "\n",
    "# Categorical features to be encoded\n",
    "categorical_features = ['gender', 'Partner', 'Dependents', 'PhoneService', 'PaperlessBilling', 'Churn',\n",
    "                        'Contract', 'PaymentMethod', 'InternetService', 'OnlineSecurity', 'OnlineBackup', \n",
    "                        'DeviceProtection', 'TechSupport', 'StreamingTV', 'StreamingMovies', 'MultipleLines', 'HasStreamingService']\n",
    "\n",
    "# Apply Label Encoding to categorical features\n",
    "label_encoder = LabelEncoder()\n",
    "for feature in categorical_features:\n",
    "    df[feature] = label_encoder.fit_transform(df[feature])\n",
    "\n",
    "# Verify the final DataFrame\n",
    "df.head()"
   ]
  },
  {
   "cell_type": "markdown",
   "metadata": {},
   "source": [
    "## Get feature importance"
   ]
  },
  {
   "cell_type": "code",
   "execution_count": 72,
   "metadata": {},
   "outputs": [
    {
     "name": "stdout",
     "output_type": "stream",
     "text": [
      "Top Important Features:\n",
      "                Feature  Importance\n",
      "18         TotalCharges    0.191064\n",
      "17       MonthlyCharges    0.174723\n",
      "4                tenure    0.153676\n",
      "14             Contract    0.076875\n",
      "16        PaymentMethod    0.053376\n",
      "11          TechSupport    0.045966\n",
      "8        OnlineSecurity    0.039626\n",
      "7       InternetService    0.031602\n",
      "9          OnlineBackup    0.027841\n",
      "0                gender    0.027634\n",
      "15     PaperlessBilling    0.025730\n",
      "10     DeviceProtection    0.022818\n",
      "2               Partner    0.022732\n",
      "6         MultipleLines    0.022469\n",
      "1         SeniorCitizen    0.020118\n",
      "3            Dependents    0.018674\n",
      "12          StreamingTV    0.014913\n",
      "13      StreamingMovies    0.014759\n",
      "19  HasStreamingService    0.010321\n",
      "5          PhoneService    0.005084\n"
     ]
    }
   ],
   "source": [
    "# Separate features and target\n",
    "X_rf = df.drop(['Churn'], axis = 1)  \n",
    "y_rf = df['Churn']\n",
    "\n",
    "# Train a Random Forest model\n",
    "rf = RandomForestClassifier(n_estimators=100, random_state=42)\n",
    "rf.fit(X_rf, y_rf)\n",
    "\n",
    "# Get feature importances\n",
    "importances = rf.feature_importances_\n",
    "feature_names = X_rf.columns\n",
    "\n",
    "# Create a DataFrame of feature importances\n",
    "feature_importance_df = pd.DataFrame({'Feature': feature_names, 'Importance': importances})\n",
    "feature_importance_df = feature_importance_df.sort_values(by='Importance', ascending=False)\n",
    "\n",
    "# Display features importance\n",
    "print(\"Top Important Features:\")\n",
    "print(feature_importance_df)\n",
    "\n",
    "# Select the top 10 important features\n",
    "top_features = feature_importance_df['Feature'].tolist()\n",
    "X_top = X_rf[top_features]\n"
   ]
  },
  {
   "cell_type": "code",
   "execution_count": 73,
   "metadata": {},
   "outputs": [],
   "source": [
    "# Delete unnecesessary features\n",
    "df = df.drop(columns = ['StreamingTV', 'StreamingMovies', 'PhoneService', 'HasStreamingService'])"
   ]
  },
  {
   "cell_type": "code",
   "execution_count": 74,
   "metadata": {},
   "outputs": [
    {
     "name": "stdout",
     "output_type": "stream",
     "text": [
      "<class 'pandas.core.frame.DataFrame'>\n",
      "RangeIndex: 7043 entries, 0 to 7042\n",
      "Data columns (total 17 columns):\n",
      " #   Column            Non-Null Count  Dtype   \n",
      "---  ------            --------------  -----   \n",
      " 0   gender            7043 non-null   int32   \n",
      " 1   SeniorCitizen     7043 non-null   category\n",
      " 2   Partner           7043 non-null   int32   \n",
      " 3   Dependents        7043 non-null   int32   \n",
      " 4   tenure            7043 non-null   float64 \n",
      " 5   MultipleLines     7043 non-null   int32   \n",
      " 6   InternetService   7043 non-null   int32   \n",
      " 7   OnlineSecurity    7043 non-null   int32   \n",
      " 8   OnlineBackup      7043 non-null   int32   \n",
      " 9   DeviceProtection  7043 non-null   int32   \n",
      " 10  TechSupport       7043 non-null   int32   \n",
      " 11  Contract          7043 non-null   int32   \n",
      " 12  PaperlessBilling  7043 non-null   int32   \n",
      " 13  PaymentMethod     7043 non-null   int32   \n",
      " 14  MonthlyCharges    7043 non-null   float64 \n",
      " 15  TotalCharges      7043 non-null   float64 \n",
      " 16  Churn             7043 non-null   int32   \n",
      "dtypes: category(1), float64(3), int32(13)\n",
      "memory usage: 529.9 KB\n"
     ]
    }
   ],
   "source": [
    "df.info()"
   ]
  },
  {
   "cell_type": "markdown",
   "metadata": {},
   "source": [
    "## Over sampling"
   ]
  },
  {
   "cell_type": "code",
   "execution_count": 75,
   "metadata": {},
   "outputs": [
    {
     "name": "stdout",
     "output_type": "stream",
     "text": [
      "Before SMOTE: Counter({0: 5174, 1: 1869})\n",
      "After SMOTE: Counter({0: 5174, 1: 5174})\n",
      "<class 'pandas.core.frame.DataFrame'>\n",
      "RangeIndex: 10348 entries, 0 to 10347\n",
      "Data columns (total 17 columns):\n",
      " #   Column            Non-Null Count  Dtype  \n",
      "---  ------            --------------  -----  \n",
      " 0   gender            10348 non-null  int32  \n",
      " 1   SeniorCitizen     10348 non-null  int32  \n",
      " 2   Partner           10348 non-null  int32  \n",
      " 3   Dependents        10348 non-null  int32  \n",
      " 4   tenure            10348 non-null  float64\n",
      " 5   MultipleLines     10348 non-null  int32  \n",
      " 6   InternetService   10348 non-null  int32  \n",
      " 7   OnlineSecurity    10348 non-null  int32  \n",
      " 8   OnlineBackup      10348 non-null  int32  \n",
      " 9   DeviceProtection  10348 non-null  int32  \n",
      " 10  TechSupport       10348 non-null  int32  \n",
      " 11  Contract          10348 non-null  int32  \n",
      " 12  PaperlessBilling  10348 non-null  int32  \n",
      " 13  PaymentMethod     10348 non-null  int32  \n",
      " 14  MonthlyCharges    10348 non-null  float64\n",
      " 15  TotalCharges      10348 non-null  float64\n",
      " 16  Churn             10348 non-null  int32  \n",
      "dtypes: float64(3), int32(14)\n",
      "memory usage: 808.6 KB\n"
     ]
    }
   ],
   "source": [
    "from imblearn.over_sampling import SMOTE\n",
    "from sklearn.preprocessing import LabelEncoder\n",
    "from collections import Counter\n",
    "\n",
    "# Convert 'SeniorCitizen' to numeric\n",
    "df['SeniorCitizen'] = df['SeniorCitizen'].astype(int)  \n",
    "\n",
    "# Separate features and target variable\n",
    "X = df.drop(columns=['Churn'])  \n",
    "y = df['Churn']                \n",
    "\n",
    "# Check class distribution before SMOTE\n",
    "print(\"Before SMOTE:\", Counter(y))\n",
    "\n",
    "# Apply SMOTE\n",
    "smote = SMOTE(random_state=42)\n",
    "X_resampled, y_resampled = smote.fit_resample(X, y)\n",
    "\n",
    "# Check class distribution after SMOTE\n",
    "print(\"After SMOTE:\", Counter(y_resampled))\n",
    "\n",
    "# Combine the resampled data back into a DataFrame\n",
    "df_resampled = pd.DataFrame(X_resampled, columns=X.columns)\n",
    "df_resampled['Churn'] = y_resampled\n",
    "\n",
    "# Display \n",
    "df_resampled.info()"
   ]
  },
  {
   "cell_type": "code",
   "execution_count": 76,
   "metadata": {},
   "outputs": [
    {
     "name": "stdout",
     "output_type": "stream",
     "text": [
      "31\n",
      "0\n"
     ]
    }
   ],
   "source": [
    "# Check the duplicates\n",
    "print(df_resampled.duplicated().sum())\n",
    "\n",
    "# Drop the duplicates\n",
    "df_resampled = df_resampled.drop_duplicates()\n",
    "\n",
    "# Check again duplicates\n",
    "print(df_resampled.duplicated().sum())"
   ]
  },
  {
   "cell_type": "code",
   "execution_count": 77,
   "metadata": {},
   "outputs": [
    {
     "data": {
      "image/png": "[encoded data removed]",
      "text/plain": [
       "<Figure size 500x400 with 1 Axes>"
      ]
     },
     "metadata": {},
     "output_type": "display_data"
    }
   ],
   "source": [
    "# Create the count plot \n",
    "plt.figure(figsize=(5, 4))\n",
    "sns.countplot(x='Churn', data=df_resampled, hue='Churn', palette='Set2', legend=False)\n",
    "plt.title('Count of Churn', fontsize=16)\n",
    "plt.show()"
   ]
  },
  {
   "cell_type": "code",
   "execution_count": 78,
   "metadata": {},
   "outputs": [],
   "source": [
    "import os\n",
    "# Create the data/processed directory if not exists\n",
    "os.makedirs('../data/processed', exist_ok=True)\n",
    "\n",
    "# Saving the Dataframe as a csv\n",
    "df_resampled.to_csv('../data/processed/Customer_Churn_Pred.csv', index=False) "
   ]
  },
  {
   "cell_type": "markdown",
   "metadata": {},
   "source": [
    "## Split the dataset"
   ]
  },
  {
   "cell_type": "code",
   "execution_count": 27,
   "metadata": {},
   "outputs": [],
   "source": [
    "# Separate features (X) and target variable (y)\n",
    "X = df_resampled.drop(columns=['Churn'])\n",
    "y = df_resampled['Churn']\n",
    "\n",
    "# Split the data into train and test sets (80% train, 20% test)\n",
    "X_train, X_test, y_train, y_test = train_test_split(X, y, test_size=0.2, random_state=42)"
   ]
  },
  {
   "cell_type": "markdown",
   "metadata": {},
   "source": [
    "## Model Building"
   ]
  },
  {
   "cell_type": "markdown",
   "metadata": {},
   "source": [
    "## Naive Bayes"
   ]
  },
  {
   "cell_type": "code",
   "execution_count": 28,
   "metadata": {},
   "outputs": [
    {
     "name": "stdout",
     "output_type": "stream",
     "text": [
      "Accuracy of Naive Bayes Model: 0.7829\n",
      "ROC-AUC of the Naive Bayes Model: 0.8521\n",
      "Classification Report:\n",
      "              precision    recall  f1-score   support\n",
      "\n",
      "           0       0.82      0.73      0.77      1043\n",
      "           1       0.75      0.83      0.79      1021\n",
      "\n",
      "    accuracy                           0.78      2064\n",
      "   macro avg       0.79      0.78      0.78      2064\n",
      "weighted avg       0.79      0.78      0.78      2064\n",
      "\n"
     ]
    },
    {
     "data": {
      "image/png": "[encoded data removed]",
      "text/plain": [
       "<Figure size 500x300 with 2 Axes>"
      ]
     },
     "metadata": {},
     "output_type": "display_data"
    }
   ],
   "source": [
    "# Instantiate the Naive Bayes model\n",
    "nb_model = GaussianNB()\n",
    "\n",
    "# Fit the model to the training data\n",
    "nb_model.fit(X_train, y_train)\n",
    "\n",
    "# Predict on the test data\n",
    "y_pred = nb_model.predict(X_test)\n",
    "\n",
    "# Evaluate the model\n",
    "accuracy = accuracy_score(y_test, y_pred)\n",
    "roc_auc = roc_auc_score(y_test, nb_model.predict_proba(X_test)[:, 1])\n",
    "\n",
    "# Calculate and normalize the confusion matrix\n",
    "conf_matrix = confusion_matrix(y_test, y_pred)\n",
    "conf_matrix_normalized = conf_matrix.astype('float') / conf_matrix.sum(axis=1)[:, np.newaxis]\n",
    "\n",
    "# Print evaluation metrics\n",
    "print(f\"Accuracy of Naive Bayes Model: {accuracy:.4f}\")\n",
    "print(f\"ROC-AUC of the Naive Bayes Model: {roc_auc:.4f}\")\n",
    "\n",
    "# Print the classification report\n",
    "print(\"Classification Report:\")\n",
    "print(classification_report(y_test, y_pred))\n",
    "\n",
    "# Plot the normalized confusion matrix\n",
    "plt.figure(figsize=(5, 3))\n",
    "sns.heatmap(conf_matrix_normalized, annot=True, fmt=\".2f\", cmap='Blues', xticklabels=['No Churn', 'Churn'], yticklabels=['No Churn', 'Churn'])\n",
    "plt.title('Normalized Confusion Matrix')\n",
    "plt.xlabel('Predicted')\n",
    "plt.ylabel('True')\n",
    "plt.show()"
   ]
  },
  {
   "cell_type": "markdown",
   "metadata": {},
   "source": [
    "## Logistic Regression"
   ]
  },
  {
   "cell_type": "code",
   "execution_count": 29,
   "metadata": {},
   "outputs": [
    {
     "name": "stdout",
     "output_type": "stream",
     "text": [
      "Accuracy of Logistic Regression Model: 0.7868\n",
      "ROC-AUC of the Logistic Regression Model: 0.8684\n",
      "Classification Report:\n",
      "              precision    recall  f1-score   support\n",
      "\n",
      "           0       0.84      0.71      0.77      1043\n",
      "           1       0.75      0.86      0.80      1021\n",
      "\n",
      "    accuracy                           0.79      2064\n",
      "   macro avg       0.79      0.79      0.79      2064\n",
      "weighted avg       0.79      0.79      0.79      2064\n",
      "\n"
     ]
    },
    {
     "data": {
      "image/png": "[encoded data removed]",
      "text/plain": [
       "<Figure size 500x300 with 2 Axes>"
      ]
     },
     "metadata": {},
     "output_type": "display_data"
    }
   ],
   "source": [
    "# Instantiate the Logistic Regression model\n",
    "log_reg_model = LogisticRegression(max_iter=1000, random_state=42)  \n",
    "\n",
    "# Fit the model to the training data\n",
    "log_reg_model.fit(X_train, y_train)\n",
    "\n",
    "# Predict on the dataset\n",
    "y_pred = log_reg_model.predict(X_test)\n",
    "\n",
    "# Evaluate the model\n",
    "accuracy = accuracy_score(y_test, y_pred)\n",
    "roc_auc = roc_auc_score(y_test, log_reg_model.predict_proba(X_test)[:, 1])  \n",
    "conf_matrix = confusion_matrix(y_test, y_pred)\n",
    "conf_matrix_normalized = conf_matrix.astype('float') / conf_matrix.sum(axis=1)[:, np.newaxis]\n",
    "\n",
    "# Print evaluation metrics\n",
    "print(f\"Accuracy of Logistic Regression Model: {accuracy:.4f}\")\n",
    "print(f\"ROC-AUC of the Logistic Regression Model: {roc_auc:.4f}\")\n",
    "\n",
    "# Print the classification report\n",
    "print(\"Classification Report:\")\n",
    "print(classification_report(y_test, y_pred))\n",
    "\n",
    "# Plot the confusion matrix\n",
    "plt.figure(figsize=(5, 3))\n",
    "sns.heatmap(conf_matrix_normalized, annot=True, fmt=\".2f\", cmap='Blues', xticklabels=['No Churn', 'Churn'], yticklabels=['No Churn', 'Churn'])\n",
    "plt.title('Confusion Matrix')\n",
    "plt.xlabel('Predicted')\n",
    "plt.ylabel('True')\n",
    "plt.show()\n"
   ]
  },
  {
   "cell_type": "markdown",
   "metadata": {},
   "source": [
    "## SVM"
   ]
  },
  {
   "cell_type": "code",
   "execution_count": 30,
   "metadata": {},
   "outputs": [
    {
     "name": "stdout",
     "output_type": "stream",
     "text": [
      "Accuracy of SVM Model: 0.7931\n",
      "ROC-AUC of the SVM Model: 0.8682\n",
      "Classification Report:\n",
      "              precision    recall  f1-score   support\n",
      "\n",
      "           0       0.84      0.73      0.78      1043\n",
      "           1       0.76      0.86      0.80      1021\n",
      "\n",
      "    accuracy                           0.79      2064\n",
      "   macro avg       0.80      0.79      0.79      2064\n",
      "weighted avg       0.80      0.79      0.79      2064\n",
      "\n"
     ]
    },
    {
     "data": {
      "image/png": "[encoded data removed]",
      "text/plain": [
       "<Figure size 500x300 with 2 Axes>"
      ]
     },
     "metadata": {},
     "output_type": "display_data"
    }
   ],
   "source": [
    "# Instantiate the SVM model \n",
    "svm_model = SVC(probability=True, random_state=42)  \n",
    "\n",
    "# Fit the model to the training data\n",
    "svm_model.fit(X_train, y_train)\n",
    "\n",
    "# Predict on the dataset\n",
    "y_pred = svm_model.predict(X_test)\n",
    "\n",
    "# Evaluate the model\n",
    "accuracy = accuracy_score(y_test, y_pred)\n",
    "roc_auc = roc_auc_score(y_test, svm_model.predict_proba(X_test)[:, 1])  \n",
    "conf_matrix = confusion_matrix(y_test, y_pred)\n",
    "conf_matrix_normalized = conf_matrix.astype('float') / conf_matrix.sum(axis=1)[:, np.newaxis]\n",
    "\n",
    "# Print evaluation metrics\n",
    "print(f\"Accuracy of SVM Model: {accuracy:.4f}\")\n",
    "print(f\"ROC-AUC of the SVM Model: {roc_auc:.4f}\")\n",
    "\n",
    "# Print the classification report\n",
    "print(\"Classification Report:\")\n",
    "print(classification_report(y_test, y_pred))\n",
    "\n",
    "# Plot the confusion matrix\n",
    "plt.figure(figsize=(5, 3))\n",
    "sns.heatmap(conf_matrix_normalized, annot=True,  fmt=\".2f\", cmap='Blues', xticklabels=['No Churn', 'Churn'], yticklabels=['No Churn', 'Churn'])\n",
    "plt.title('Confusion Matrix for SVM model')\n",
    "plt.xlabel('Predicted')\n",
    "plt.ylabel('True')\n",
    "plt.show()"
   ]
  },
  {
   "cell_type": "markdown",
   "metadata": {},
   "source": [
    "## Decesion Tree"
   ]
  },
  {
   "cell_type": "code",
   "execution_count": 31,
   "metadata": {},
   "outputs": [
    {
     "name": "stdout",
     "output_type": "stream",
     "text": [
      "Accuracy of Decision Tree Model: 0.7694\n",
      "ROC-AUC of the Decision Tree Model: 0.7697\n",
      "Classification Report:\n",
      "              precision    recall  f1-score   support\n",
      "\n",
      "           0       0.79      0.74      0.76      1043\n",
      "           1       0.75      0.80      0.77      1021\n",
      "\n",
      "    accuracy                           0.77      2064\n",
      "   macro avg       0.77      0.77      0.77      2064\n",
      "weighted avg       0.77      0.77      0.77      2064\n",
      "\n"
     ]
    },
    {
     "data": {
      "image/png": "[encoded data removed]",
      "text/plain": [
       "<Figure size 500x300 with 2 Axes>"
      ]
     },
     "metadata": {},
     "output_type": "display_data"
    }
   ],
   "source": [
    "# Instantiate the Decision Tree model\n",
    "dt_model = DecisionTreeClassifier(random_state=42)\n",
    "\n",
    "# Fit the model to the training data\n",
    "dt_model.fit(X_train, y_train)\n",
    "\n",
    "# Predict on the dataset\n",
    "y_pred = dt_model.predict(X_test)\n",
    "\n",
    "# Evaluate the model\n",
    "accuracy = accuracy_score(y_test, y_pred)\n",
    "roc_auc = roc_auc_score(y_test, dt_model.predict_proba(X_test)[:, 1])  \n",
    "conf_matrix = confusion_matrix(y_test, y_pred)\n",
    "conf_matrix_normalized = conf_matrix.astype('float') / conf_matrix.sum(axis=1)[:, np.newaxis]\n",
    "\n",
    "# Print evaluation metrics\n",
    "print(f\"Accuracy of Decision Tree Model: {accuracy:.4f}\")\n",
    "print(f\"ROC-AUC of the Decision Tree Model: {roc_auc:.4f}\")\n",
    "\n",
    "# Print the classification report\n",
    "print(\"Classification Report:\")\n",
    "print(classification_report(y_test, y_pred))\n",
    "\n",
    "# Plot the confusion matrix\n",
    "plt.figure(figsize=(5, 3))\n",
    "sns.heatmap(conf_matrix_normalized, annot=True, fmt='.2f', cmap='Blues', xticklabels=['No Churn', 'Churn'], yticklabels=['No Churn', 'Churn'])\n",
    "plt.title('Confusion Matrix for decision model')\n",
    "plt.xlabel('Predicted')\n",
    "plt.ylabel('True')\n",
    "plt.show()"
   ]
  },
  {
   "cell_type": "markdown",
   "metadata": {},
   "source": [
    "## Random Forest"
   ]
  },
  {
   "cell_type": "code",
   "execution_count": 32,
   "metadata": {},
   "outputs": [
    {
     "name": "stdout",
     "output_type": "stream",
     "text": [
      "Accuracy of Random Forest Model: 0.8411\n",
      "ROC-AUC of the Random Forest Model: 0.9172\n",
      "Classification Report:\n",
      "              precision    recall  f1-score   support\n",
      "\n",
      "           0       0.87      0.80      0.84      1043\n",
      "           1       0.81      0.88      0.85      1021\n",
      "\n",
      "    accuracy                           0.84      2064\n",
      "   macro avg       0.84      0.84      0.84      2064\n",
      "weighted avg       0.84      0.84      0.84      2064\n",
      "\n"
     ]
    },
    {
     "data": {
      "image/png": "[encoded data removed]",
      "text/plain": [
       "<Figure size 500x300 with 2 Axes>"
      ]
     },
     "metadata": {},
     "output_type": "display_data"
    }
   ],
   "source": [
    "# Instantiate the Random Forest model \n",
    "rf_model = RandomForestClassifier(random_state=42)\n",
    "\n",
    "# Fit the model to the training data\n",
    "rf_model.fit(X_train, y_train)\n",
    "\n",
    "# Predict on the dataset\n",
    "y_pred = rf_model.predict(X_test)\n",
    "\n",
    "# Evaluate the model\n",
    "accuracy = accuracy_score(y_test, y_pred)\n",
    "roc_auc = roc_auc_score(y_test, rf_model.predict_proba(X_test)[:, 1])\n",
    "\n",
    "# Calculate and normalize the confusion matrix\n",
    "conf_matrix = confusion_matrix(y_test, y_pred)\n",
    "conf_matrix_normalized = conf_matrix.astype('float') / conf_matrix.sum(axis=1)[:, np.newaxis]\n",
    "\n",
    "# Print evaluation metrics\n",
    "print(f\"Accuracy of Random Forest Model: {accuracy:.4f}\")\n",
    "print(f\"ROC-AUC of the Random Forest Model: {roc_auc:.4f}\")\n",
    "print(\"Classification Report:\")\n",
    "print(classification_report(y_test, y_pred))\n",
    "\n",
    "# Plot the normalized confusion matrix \n",
    "plt.figure(figsize=(5, 3))\n",
    "sns.heatmap(conf_matrix_normalized, annot=True, fmt='.2f', cmap='Blues', \n",
    "            xticklabels=['No Churn', 'Churn'], yticklabels=['No Churn', 'Churn'])\n",
    "plt.title('Normalized Confusion Matrix')\n",
    "plt.xlabel('Predicted')\n",
    "plt.ylabel('True')\n",
    "plt.show()"
   ]
  },
  {
   "cell_type": "markdown",
   "metadata": {},
   "source": [
    "## Adaboost"
   ]
  },
  {
   "cell_type": "code",
   "execution_count": 33,
   "metadata": {},
   "outputs": [
    {
     "name": "stderr",
     "output_type": "stream",
     "text": [
      "C:\\Users\\venka\\anaconda3\\Lib\\site-packages\\sklearn\\ensemble\\_weight_boosting.py:519: FutureWarning: The SAMME.R algorithm (the default) is deprecated and will be removed in 1.6. Use the SAMME algorithm to circumvent this warning.\n",
      "  warnings.warn(\n"
     ]
    },
    {
     "name": "stdout",
     "output_type": "stream",
     "text": [
      "Accuracy of AdaBoost Model: 0.7946\n",
      "ROC-AUC of the AdaBoost Model: 0.8753\n",
      "Classification Report:\n",
      "              precision    recall  f1-score   support\n",
      "\n",
      "           0       0.83      0.74      0.78      1043\n",
      "           1       0.76      0.85      0.80      1021\n",
      "\n",
      "    accuracy                           0.79      2064\n",
      "   macro avg       0.80      0.80      0.79      2064\n",
      "weighted avg       0.80      0.79      0.79      2064\n",
      "\n"
     ]
    },
    {
     "data": {
      "image/png": "[encoded data removed]",
      "text/plain": [
       "<Figure size 500x300 with 2 Axes>"
      ]
     },
     "metadata": {},
     "output_type": "display_data"
    }
   ],
   "source": [
    "# Instantiate the AdaBoost model \n",
    "ada_model = AdaBoostClassifier(random_state=42)\n",
    "\n",
    "# Fit the model to the training data\n",
    "ada_model.fit(X_train, y_train)\n",
    "\n",
    "# Predict on the dataset\n",
    "y_pred = ada_model.predict(X_test)\n",
    "\n",
    "# Evaluate the model\n",
    "accuracy = accuracy_score(y_test, y_pred)\n",
    "roc_auc = roc_auc_score(y_test, ada_model.predict_proba(X_test)[:, 1])\n",
    "\n",
    "# Calculate and normalize the confusion matrix\n",
    "conf_matrix = confusion_matrix(y_test, y_pred)\n",
    "conf_matrix_normalized = conf_matrix.astype('float') / conf_matrix.sum(axis=1)[:, np.newaxis]\n",
    "\n",
    "# Print evaluation metrics\n",
    "print(f\"Accuracy of AdaBoost Model: {accuracy:.4f}\")\n",
    "print(f\"ROC-AUC of the AdaBoost Model: {roc_auc:.4f}\")\n",
    "print(\"Classification Report:\")\n",
    "print(classification_report(y_test, y_pred))\n",
    "\n",
    "# Plot the normalized confusion matrix \n",
    "plt.figure(figsize=(5, 3))\n",
    "sns.heatmap(conf_matrix_normalized, annot=True, fmt='.2f', cmap='Blues',\n",
    "            xticklabels=['No Churn', 'Churn'], yticklabels=['No Churn', 'Churn'])\n",
    "plt.title('Normalized Confusion Matrix (AdaBoost)')\n",
    "plt.xlabel('Predicted')\n",
    "plt.ylabel('True')\n",
    "plt.show()"
   ]
  },
  {
   "cell_type": "markdown",
   "metadata": {},
   "source": [
    "## Gradient Boosting"
   ]
  },
  {
   "cell_type": "code",
   "execution_count": 34,
   "metadata": {},
   "outputs": [
    {
     "name": "stdout",
     "output_type": "stream",
     "text": [
      "Accuracy of Gradient Boosting Model: 0.8052\n",
      "ROC-AUC of the Gradient Boosting Model: 0.8896\n",
      "Classification Report:\n",
      "              precision    recall  f1-score   support\n",
      "\n",
      "           0       0.84      0.76      0.80      1043\n",
      "           1       0.77      0.86      0.81      1021\n",
      "\n",
      "    accuracy                           0.81      2064\n",
      "   macro avg       0.81      0.81      0.80      2064\n",
      "weighted avg       0.81      0.81      0.80      2064\n",
      "\n"
     ]
    },
    {
     "data": {
      "image/png": "[encoded data removed]",
      "text/plain": [
       "<Figure size 500x300 with 2 Axes>"
      ]
     },
     "metadata": {},
     "output_type": "display_data"
    }
   ],
   "source": [
    "# Instantiate the Gradient Boosting model \n",
    "gb_model = GradientBoostingClassifier(random_state=42)\n",
    "\n",
    "# Fit the model to the training data\n",
    "gb_model.fit(X_train, y_train)\n",
    "\n",
    "# Predict on the dataset\n",
    "y_pred = gb_model.predict(X_test)\n",
    "\n",
    "# Evaluate the model\n",
    "accuracy = accuracy_score(y_test, y_pred)\n",
    "roc_auc = roc_auc_score(y_test, gb_model.predict_proba(X_test)[:, 1])\n",
    "\n",
    "# Calculate and normalize the confusion matrix\n",
    "conf_matrix = confusion_matrix(y_test, y_pred)\n",
    "conf_matrix_normalized = conf_matrix.astype('float') / conf_matrix.sum(axis=1)[:, np.newaxis]\n",
    "\n",
    "# Print evaluation metrics\n",
    "print(f\"Accuracy of Gradient Boosting Model: {accuracy:.4f}\")\n",
    "print(f\"ROC-AUC of the Gradient Boosting Model: {roc_auc:.4f}\")\n",
    "print(\"Classification Report:\")\n",
    "print(classification_report(y_test, y_pred))\n",
    "\n",
    "# Plot the normalized confusion matrix \n",
    "plt.figure(figsize=(5, 3))\n",
    "sns.heatmap(conf_matrix_normalized, annot=True, fmt='.2f', cmap='Blues',\n",
    "            xticklabels=['No Churn', 'Churn'], yticklabels=['No Churn', 'Churn'])\n",
    "plt.title('Normalized Confusion Matrix (Gradient Boosting)')\n",
    "plt.xlabel('Predicted')\n",
    "plt.ylabel('True')\n",
    "plt.show()"
   ]
  },
  {
   "cell_type": "markdown",
   "metadata": {},
   "source": [
    "## XGB"
   ]
  },
  {
   "cell_type": "code",
   "execution_count": 35,
   "metadata": {},
   "outputs": [
    {
     "name": "stdout",
     "output_type": "stream",
     "text": [
      "Accuracy of XGBoost Model: 0.8324\n",
      "ROC-AUC of the XGBoost Model: 0.9102\n",
      "Classification Report:\n",
      "              precision    recall  f1-score   support\n",
      "\n",
      "           0       0.86      0.80      0.83      1043\n",
      "           1       0.81      0.87      0.84      1021\n",
      "\n",
      "    accuracy                           0.83      2064\n",
      "   macro avg       0.83      0.83      0.83      2064\n",
      "weighted avg       0.83      0.83      0.83      2064\n",
      "\n"
     ]
    },
    {
     "data": {
      "image/png": "[encoded data removed]",
      "text/plain": [
       "<Figure size 500x300 with 2 Axes>"
      ]
     },
     "metadata": {},
     "output_type": "display_data"
    }
   ],
   "source": [
    "# Instantiate the XGBoost model \n",
    "xgb_model = xgb.XGBClassifier(random_state=42, use_label_encoder=False, eval_metric='logloss')\n",
    "\n",
    "# Fit the model to the training data\n",
    "xgb_model.fit(X_train, y_train)\n",
    "\n",
    "# Predict on the dataset\n",
    "y_pred = xgb_model.predict(X_test)\n",
    "\n",
    "# Evaluate the model\n",
    "accuracy = accuracy_score(y_test, y_pred)\n",
    "roc_auc = roc_auc_score(y_test, xgb_model.predict_proba(X_test)[:, 1])\n",
    "\n",
    "# Calculate and normalize the confusion matrix\n",
    "conf_matrix = confusion_matrix(y_test, y_pred)\n",
    "conf_matrix_normalized = conf_matrix.astype('float') / conf_matrix.sum(axis=1)[:, np.newaxis]\n",
    "\n",
    "# Print evaluation metrics\n",
    "print(f\"Accuracy of XGBoost Model: {accuracy:.4f}\")\n",
    "print(f\"ROC-AUC of the XGBoost Model: {roc_auc:.4f}\")\n",
    "print(\"Classification Report:\")\n",
    "print(classification_report(y_test, y_pred))\n",
    "\n",
    "# Plot the normalized confusion matrix with decimal points\n",
    "plt.figure(figsize=(5, 3))\n",
    "sns.heatmap(conf_matrix_normalized, annot=True, fmt='.2f', cmap='Blues',\n",
    "            xticklabels=['No Churn', 'Churn'], yticklabels=['No Churn', 'Churn'])\n",
    "plt.title('Normalized Confusion Matrix (XGBoost)')\n",
    "plt.xlabel('Predicted')\n",
    "plt.ylabel('True')\n",
    "plt.show()"
   ]
  },
  {
   "cell_type": "markdown",
   "metadata": {},
   "source": [
    "## Stacking"
   ]
  },
  {
   "cell_type": "code",
   "execution_count": 36,
   "metadata": {},
   "outputs": [
    {
     "name": "stdout",
     "output_type": "stream",
     "text": [
      "Accuracy: 0.8008720930232558\n",
      "Classification Report:\n",
      "               precision    recall  f1-score   support\n",
      "\n",
      "           0       0.84      0.75      0.79      1043\n",
      "           1       0.77      0.85      0.81      1021\n",
      "\n",
      "    accuracy                           0.80      2064\n",
      "   macro avg       0.80      0.80      0.80      2064\n",
      "weighted avg       0.80      0.80      0.80      2064\n",
      "\n",
      "Confusion Matrix:\n",
      "[[0.75 0.25]\n",
      " [0.15 0.85]]\n"
     ]
    }
   ],
   "source": [
    "# Define base learners and meta-learner\n",
    "base_learners = [\n",
    "    ('svm', SVC(probability=True, random_state=42)),\n",
    "    ('dt', DecisionTreeClassifier(random_state=42)),\n",
    "    ('lr', LogisticRegression(max_iter=1000, random_state=42))\n",
    "]\n",
    "\n",
    "# Meta-learner\n",
    "meta_learner = LogisticRegression(random_state=42)\n",
    "\n",
    "# Stacking Classifier\n",
    "stacking_clf = StackingClassifier(estimators=base_learners, final_estimator=meta_learner, cv=5)\n",
    "\n",
    "# Fit the stacking model\n",
    "stacking_clf.fit(X_train, y_train)\n",
    "\n",
    "# Predict on the test set\n",
    "y_pred = stacking_clf.predict(X_test)\n",
    "\n",
    "# Evaluate the model\n",
    "print(\"Accuracy:\", accuracy_score(y_test, y_pred))\n",
    "print(\"Classification Report:\\n\", classification_report(y_test, y_pred))\n",
    "\n",
    "# Confusion Matrix in decimal form\n",
    "cm = confusion_matrix(y_test, y_pred)\n",
    "cm_decimal = cm.astype('float') / cm.sum(axis=1)[:, np.newaxis]  \n",
    "\n",
    "print(\"Confusion Matrix:\")\n",
    "print(np.round(cm_decimal, 2))  "
   ]
  },
  {
   "cell_type": "markdown",
   "metadata": {},
   "source": [
    "## Hyper Parameter Tuning"
   ]
  },
  {
   "cell_type": "markdown",
   "metadata": {},
   "source": [
    "## Random Forest model Tuning"
   ]
  },
  {
   "cell_type": "code",
   "execution_count": 38,
   "metadata": {},
   "outputs": [
    {
     "name": "stdout",
     "output_type": "stream",
     "text": [
      "Fitting 5 folds for each of 648 candidates, totalling 3240 fits\n",
      "Best Hyperparameters: {'bootstrap': False, 'max_depth': 20, 'max_features': 'sqrt', 'min_samples_leaf': 1, 'min_samples_split': 2, 'n_estimators': 300}\n",
      "Tuned Model Accuracy: 0.8508\n",
      "Tuned Model ROC-AUC: 0.9215\n",
      "Classification Report:\n",
      "              precision    recall  f1-score   support\n",
      "\n",
      "           0       0.88      0.82      0.85      1043\n",
      "           1       0.83      0.89      0.85      1021\n",
      "\n",
      "    accuracy                           0.85      2064\n",
      "   macro avg       0.85      0.85      0.85      2064\n",
      "weighted avg       0.85      0.85      0.85      2064\n",
      "\n"
     ]
    },
    {
     "data": {
      "image/png": "[encoded data removed]",
      "text/plain": [
       "<Figure size 500x300 with 2 Axes>"
      ]
     },
     "metadata": {},
     "output_type": "display_data"
    }
   ],
   "source": [
    "# Define the parameter grid\n",
    "param_grid = {\n",
    "    'n_estimators': [100, 200, 300],\n",
    "    'max_depth': [10, 20, 30, None],\n",
    "    'min_samples_split': [2, 5, 10],\n",
    "    'min_samples_leaf': [1, 2, 4],\n",
    "    'max_features': ['sqrt', 'log2', None],\n",
    "    'bootstrap': [True, False]\n",
    "}\n",
    "\n",
    "# Instantiate the Random Forest model\n",
    "rf_model = RandomForestClassifier(random_state=42)\n",
    "\n",
    "# Use GridSearchCV for hyperparameter tuning\n",
    "grid_search = GridSearchCV(estimator=rf_model, param_grid=param_grid, \n",
    "                           scoring='roc_auc', cv=5, verbose=2, n_jobs=-1)\n",
    "\n",
    "# Fit GridSearchCV to the training data\n",
    "grid_search.fit(X_train, y_train)\n",
    "\n",
    "# Best parameters and model\n",
    "best_params = grid_search.best_params_\n",
    "best_model = grid_search.best_estimator_\n",
    "\n",
    "print(\"Best Hyperparameters:\", best_params)\n",
    "\n",
    "# Predict with the best model\n",
    "y_pred = best_model.predict(X_test)\n",
    "y_pred_proba = best_model.predict_proba(X_test)[:, 1]\n",
    "\n",
    "# Evaluate the tuned model\n",
    "accuracy = accuracy_score(y_test, y_pred)\n",
    "roc_auc = roc_auc_score(y_test, y_pred_proba)\n",
    "conf_matrix = confusion_matrix(y_test, y_pred)\n",
    "conf_matrix_normalized = conf_matrix.astype('float') / conf_matrix.sum(axis=1)[:, np.newaxis]\n",
    "\n",
    "print(f\"Tuned Model Accuracy: {accuracy:.4f}\")\n",
    "print(f\"Tuned Model ROC-AUC: {roc_auc:.4f}\")\n",
    "print(\"Classification Report:\")\n",
    "print(classification_report(y_test, y_pred))\n",
    "\n",
    "# Plot the normalized confusion matrix\n",
    "plt.figure(figsize=(5, 3))\n",
    "sns.heatmap(conf_matrix_normalized, annot=True, fmt='.2f', cmap='Blues', \n",
    "            xticklabels=['No Churn', 'Churn'], yticklabels=['No Churn', 'Churn'])\n",
    "plt.title('Normalized Confusion Matrix')\n",
    "plt.xlabel('Predicted')\n",
    "plt.ylabel('True')\n",
    "plt.show()\n"
   ]
  },
  {
   "cell_type": "markdown",
   "metadata": {},
   "source": [
    "## Final Model"
   ]
  },
  {
   "cell_type": "code",
   "execution_count": 39,
   "metadata": {},
   "outputs": [
    {
     "name": "stdout",
     "output_type": "stream",
     "text": [
      "Tuned Model Accuracy: 0.8508\n",
      "Tuned Model ROC-AUC: 0.9215\n",
      "Classification Report:\n",
      "              precision    recall  f1-score   support\n",
      "\n",
      "           0       0.88      0.82      0.85      1043\n",
      "           1       0.83      0.89      0.85      1021\n",
      "\n",
      "    accuracy                           0.85      2064\n",
      "   macro avg       0.85      0.85      0.85      2064\n",
      "weighted avg       0.85      0.85      0.85      2064\n",
      "\n"
     ]
    },
    {
     "data": {
      "image/png": "[encoded data removed]",
      "text/plain": [
       "<Figure size 500x300 with 2 Axes>"
      ]
     },
     "metadata": {},
     "output_type": "display_data"
    }
   ],
   "source": [
    "# Define the best hyperparameters\n",
    "best_params = {\n",
    "    'bootstrap': False,\n",
    "    'max_depth': 20,\n",
    "    'max_features': 'sqrt',\n",
    "    'min_samples_leaf': 1,\n",
    "    'min_samples_split': 2,\n",
    "    'n_estimators': 300\n",
    "}\n",
    "\n",
    "# Instantiate the Random Forest model with best parameters\n",
    "best_rf_model = RandomForestClassifier(**best_params, random_state=42)\n",
    "\n",
    "# Fit the model to the training data\n",
    "best_rf_model.fit(X_train, y_train)\n",
    "\n",
    "# Predict with the best model\n",
    "y_pred = best_rf_model.predict(X_test)\n",
    "y_pred_proba = best_rf_model.predict_proba(X_test)[:, 1]\n",
    "\n",
    "# Evaluate the model\n",
    "accuracy = accuracy_score(y_test, y_pred)\n",
    "roc_auc = roc_auc_score(y_test, y_pred_proba)\n",
    "conf_matrix = confusion_matrix(y_test, y_pred)\n",
    "conf_matrix_normalized = conf_matrix.astype('float') / conf_matrix.sum(axis=1)[:, np.newaxis]\n",
    "\n",
    "# Print evaluation metrics\n",
    "print(f\"Tuned Model Accuracy: {accuracy:.4f}\")\n",
    "print(f\"Tuned Model ROC-AUC: {roc_auc:.4f}\")\n",
    "print(\"Classification Report:\")\n",
    "print(classification_report(y_test, y_pred))\n",
    "\n",
    "# Plot the normalized confusion matrix\n",
    "plt.figure(figsize=(5, 3))\n",
    "sns.heatmap(conf_matrix_normalized, annot=True, fmt='.2f', cmap='Blues', \n",
    "            xticklabels=['No Disease', 'Disease'], yticklabels=['No Disease', 'Disease'])\n",
    "plt.title('Normalized Confusion Matrix (Tuned Random Forest)')\n",
    "plt.xlabel('Predicted')\n",
    "plt.ylabel('True')\n",
    "plt.show()\n"
   ]
  },
  {
   "cell_type": "code",
   "execution_count": null,
   "metadata": {},
   "outputs": [],
   "source": []
  }
 ],
 "metadata": {
  "kernelspec": {
   "display_name": "Python 3 (ipykernel)",
   "language": "python",
   "name": "python3"
  },
  "language_info": {
   "codemirror_mode": {
    "name": "ipython",
    "version": 3
   },
   "file_extension": ".py",
   "mimetype": "text/x-python",
   "name": "python",
   "nbconvert_exporter": "python",
   "pygments_lexer": "ipython3",
   "version": "3.11.5"
  }
 },
 "nbformat": 4,
 "nbformat_minor": 4
}
